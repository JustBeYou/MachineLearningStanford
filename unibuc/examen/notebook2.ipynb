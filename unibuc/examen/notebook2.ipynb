{
 "cells": [
  {
   "cell_type": "code",
   "execution_count": 1,
   "metadata": {},
   "outputs": [],
   "source": [
    "import pandas as pd\n",
    "import numpy as np\n",
    "import matplotlib.pyplot as plt\n",
    "import PIL as pil\n",
    "import hashlib\n",
    "from pickle import dump, load\n",
    "\n",
    "from sklearn.preprocessing import FunctionTransformer\n",
    "from sklearn.pipeline import Pipeline\n",
    "from sklearn.linear_model import SGDClassifier\n",
    "from sklearn.svm import SVC\n",
    "from sklearn.model_selection import cross_val_score\n",
    "from sklearn.metrics import accuracy_score\n",
    "\n",
    "def statistics(index, X, y):\n",
    "    unique, counts = np.unique(y, return_counts=True)\n",
    "    print (dict(zip(unique, counts/len(y))))\n",
    "    plt.bar(unique, counts)\n",
    "    plt.show()\n",
    "\n",
    "def evaluate_model(model, train_ds, validation_ds, n_jobs = -1, verbose = 1):\n",
    "    cross_scores = cross_val_score(model, train_ds[0], train_ds[1], cv=5, \n",
    "        scoring='accuracy', n_jobs=n_jobs, verbose=verbose)\n",
    "    \n",
    "    model.fit(train_ds[0], train_ds[1])\n",
    "    validation_score = accuracy_score(validation_ds[1], model.predict(validation_ds[0]))\n",
    "    return model, cross_scores, validation_score\n",
    "\n",
    "def create_submission(model, test_index, test_set, filename = 'submission.csv'):\n",
    "    ans = pd.DataFrame({\n",
    "        'id': test_index['image'].apply(lambda img: img.replace('test/', '')), \n",
    "        'label': model.predict(test_set)\n",
    "    })\n",
    "    \n",
    "    ans.to_csv(filename, index=False)\n",
    "\n",
    "def BasicPipeline(model_class):\n",
    "    return Pipeline([\n",
    "        ('norm', PixelNormalizer()),\n",
    "        ('train', model_class())\n",
    "    ])\n",
    "\n",
    "def PixelNormalizer():\n",
    "    return FunctionTransformer(lambda pixel: pixel / 255) \n",
    "\n",
    "def save_dataset(name, obj):\n",
    "    with open(f'{name}.pickle', 'wb') as f:\n",
    "        dump(obj, f)\n",
    "def reload_dataset(name):\n",
    "    with open(f'{name}.pickle', 'rb') as f:\n",
    "        return load(f)\n",
    "\n",
    "def hash_obj(obj):\n",
    "    r = repr(obj).encode('utf-8')\n",
    "    h = hashlib.md5()\n",
    "    h.update(r)\n",
    "    return h.hexdigest()\n",
    "\n",
    "def read_img(filename):\n",
    "    img = np.array(pil.Image.open(filename), dtype=np.uint8)\n",
    "    img = np.reshape(img, (-1))\n",
    "    return img\n",
    "\n",
    "def check_hash(data, h):\n",
    "    return hash_obj(data) == h\n",
    "\n",
    "def check_img_list_hash(imgs, hashes):\n",
    "    return len(imgs) == len(hashes) and all([hash_obj(img) == h for img, h in zip(imgs, hashes)])\n",
    "\n",
    "def load_dataset(dataset_name, load_labels = True):\n",
    "    index = pd.read_csv(f\"{dataset_name}.txt\", header=None, names=['image', 'label', 'hash'])\n",
    "    index['image'] = index['image'].apply(lambda filename: f\"{dataset_name}/{filename}\")\n",
    "    \n",
    "    assert len(index['image']) == 30001 or len(index['image']) == 5000\n",
    "    \n",
    "    if load_labels:\n",
    "        labels = np.array(index[\"label\"], dtype=np.uint8)\n",
    "        labels = np.reshape(labels, (-1))\n",
    "    else:\n",
    "        labels = None\n",
    "    \n",
    "    images = [read_img(filename) for filename in index['image']]\n",
    "    images = np.array(images)\n",
    "    \n",
    "    index['hash'] = [hash_obj(img) for img in images]\n",
    "    \n",
    "    return index, images, labels"
   ]
  },
  {
   "cell_type": "code",
   "execution_count": 2,
   "metadata": {},
   "outputs": [
    {
     "data": {
      "text/plain": [
       "True"
      ]
     },
     "execution_count": 2,
     "metadata": {},
     "output_type": "execute_result"
    }
   ],
   "source": [
    "# Reload data\n",
    "train_index, train_set, train_labels = reload_dataset('train')\n",
    "validation_index, validation_set, validation_labels = reload_dataset('validation')\n",
    "test_index, test_set, _ = reload_dataset('test')\n",
    "\n",
    "# Check integrity\n",
    "check_img_list_hash(test_set, test_index['hash'])"
   ]
  },
  {
   "cell_type": "code",
   "execution_count": 3,
   "metadata": {},
   "outputs": [
    {
     "name": "stdout",
     "output_type": "stream",
     "text": [
      "{0: 0.11082963901203294, 1: 0.11082963901203294, 2: 0.10806306456451452, 3: 0.11169627679077364, 4: 0.11452951568281057, 5: 0.11022965901136629, 6: 0.1144295190160328, 7: 0.10779640678644045, 8: 0.11159628012399586}\n"
     ]
    },
    {
     "data": {
      "image/png": "[encoded data removed]",
      "text/plain": [
       "<Figure size 432x288 with 1 Axes>"
      ]
     },
     "metadata": {
      "needs_background": "light"
     },
     "output_type": "display_data"
    },
    {
     "name": "stdout",
     "output_type": "stream",
     "text": [
      "{0: 0.114, 1: 0.1054, 2: 0.1066, 3: 0.1156, 4: 0.1108, 5: 0.1122, 6: 0.116, 7: 0.104, 8: 0.1154}\n"
     ]
    },
    {
     "data": {
      "image/png": "[encoded data removed]",
      "text/plain": [
       "<Figure size 432x288 with 1 Axes>"
      ]
     },
     "metadata": {
      "needs_background": "light"
     },
     "output_type": "display_data"
    }
   ],
   "source": [
    "statistics(train_index, train_set, train_labels)\n",
    "statistics(validation_index, validation_set, validation_labels)"
   ]
  },
  {
   "cell_type": "code",
   "execution_count": 4,
   "metadata": {},
   "outputs": [
    {
     "name": "stdout",
     "output_type": "stream",
     "text": [
      "{0: 0.10666666666666667, 1: 0.1055, 2: 0.10966666666666666, 3: 0.11366666666666667, 4: 0.1125, 5: 0.10966666666666666, 6: 0.12316666666666666, 7: 0.11333333333333333, 8: 0.10583333333333333}\n"
     ]
    },
    {
     "data": {
      "image/png": "[encoded data removed]",
      "text/plain": [
       "<Figure size 432x288 with 1 Axes>"
      ]
     },
     "metadata": {
      "needs_background": "light"
     },
     "output_type": "display_data"
    }
   ],
   "source": [
    "from sklearn.model_selection import ShuffleSplit\n",
    "\n",
    "ss = ShuffleSplit(n_splits = 1, train_size = 0.2, random_state=42)\n",
    "indices, _ = next(ss.split(train_set, train_labels, train_labels))\n",
    "part_train_set, part_train_labels = train_set[indices], train_labels[indices]\n",
    "\n",
    "statistics(train_index.iloc[indices], part_train_set, part_train_labels)"
   ]
  },
  {
   "cell_type": "code",
   "execution_count": 8,
   "metadata": {},
   "outputs": [
    {
     "name": "stderr",
     "output_type": "stream",
     "text": [
      "[Parallel(n_jobs=2)]: Using backend LokyBackend with 2 concurrent workers.\n",
      "[Parallel(n_jobs=2)]: Done   1 tasks      | elapsed:   36.2s\n",
      "[Parallel(n_jobs=2)]: Done   3 out of   5 | elapsed:  1.2min remaining:   46.0s\n",
      "[Parallel(n_jobs=2)]: Done   5 out of   5 | elapsed:  1.7min remaining:    0.0s\n",
      "[Parallel(n_jobs=2)]: Done   5 out of   5 | elapsed:  1.7min finished\n"
     ]
    }
   ],
   "source": [
    "basic = BasicPipeline(SGDClassifier)\n",
    "results = evaluate_model(basic, (train_set, train_labels), (validation_set, validation_labels), n_jobs=2, verbose=10)"
   ]
  },
  {
   "cell_type": "code",
   "execution_count": 15,
   "metadata": {},
   "outputs": [
    {
     "data": {
      "text/plain": [
       "(Pipeline(steps=[('norm',\n",
       "                  FunctionTransformer(func=<function PixelNormalizer.<locals>.<lambda> at 0x7f1fe28cf4d0>)),\n",
       "                 ('train', SGDClassifier())]),\n",
       " array([0.53491085, 0.53833333, 0.50633333, 0.53416667, 0.5405    ]),\n",
       " 0.5574)"
      ]
     },
     "execution_count": 15,
     "metadata": {},
     "output_type": "execute_result"
    }
   ],
   "source": [
    "results"
   ]
  },
  {
   "cell_type": "code",
   "execution_count": 14,
   "metadata": {},
   "outputs": [],
   "source": [
    "create_submission(basic, test_index, test_set, 'sgdc_basic.csv')"
   ]
  },
  {
   "cell_type": "code",
   "execution_count": 18,
   "metadata": {},
   "outputs": [
    {
     "name": "stderr",
     "output_type": "stream",
     "text": [
      "[Parallel(n_jobs=-1)]: Using backend LokyBackend with 4 concurrent workers.\n",
      "[Parallel(n_jobs=-1)]: Done   2 out of   5 | elapsed: 14.4min remaining: 21.6min\n",
      "[Parallel(n_jobs=-1)]: Done   3 out of   5 | elapsed: 14.6min remaining:  9.7min\n",
      "[Parallel(n_jobs=-1)]: Done   5 out of   5 | elapsed: 20.7min remaining:    0.0s\n",
      "[Parallel(n_jobs=-1)]: Done   5 out of   5 | elapsed: 20.7min finished\n"
     ]
    }
   ],
   "source": [
    "svm_basic = BasicPipeline(SVC)\n",
    "results_svm = evaluate_model(svm_basic, (train_set, train_labels), (validation_set, validation_labels), n_jobs=-1, verbose=10)"
   ]
  },
  {
   "cell_type": "code",
   "execution_count": 21,
   "metadata": {},
   "outputs": [
    {
     "data": {
      "text/plain": [
       "(Pipeline(steps=[('norm',\n",
       "                  FunctionTransformer(func=<function PixelNormalizer.<locals>.<lambda> at 0x7f200d58c440>)),\n",
       "                 ('train', SVC())]),\n",
       " array([0.72854524, 0.73766667, 0.73383333, 0.72816667, 0.72816667]),\n",
       " 0.735)"
      ]
     },
     "execution_count": 21,
     "metadata": {},
     "output_type": "execute_result"
    }
   ],
   "source": [
    "results_svm"
   ]
  },
  {
   "cell_type": "code",
   "execution_count": 20,
   "metadata": {},
   "outputs": [],
   "source": [
    "create_submission(svm_basic, test_index, test_set, 'svm_basic.csv')"
   ]
  },
  {
   "cell_type": "code",
   "execution_count": 6,
   "metadata": {},
   "outputs": [
    {
     "name": "stderr",
     "output_type": "stream",
     "text": [
      "[Parallel(n_jobs=-1)]: Using backend LokyBackend with 4 concurrent workers.\n",
      "[Parallel(n_jobs=-1)]: Done   2 out of   5 | elapsed: 14.4min remaining: 21.6min\n",
      "[Parallel(n_jobs=-1)]: Done   3 out of   5 | elapsed: 14.4min remaining:  9.6min\n",
      "[Parallel(n_jobs=-1)]: Done   5 out of   5 | elapsed: 19.9min remaining:    0.0s\n",
      "[Parallel(n_jobs=-1)]: Done   5 out of   5 | elapsed: 19.9min finished\n"
     ]
    },
    {
     "data": {
      "text/plain": [
       "(Pipeline(steps=[('scale', MinMaxScaler(feature_range=(-1, 1))),\n",
       "                 ('train', SVC())]),\n",
       " array([0.72854524, 0.73766667, 0.73383333, 0.72816667, 0.72816667]),\n",
       " 0.735)"
      ]
     },
     "execution_count": 6,
     "metadata": {},
     "output_type": "execute_result"
    }
   ],
   "source": [
    "from sklearn.preprocessing import MinMaxScaler\n",
    "\n",
    "# Trying [-1, 1] scaling as suggested in https://www.csie.ntu.edu.tw/~cjlin/papers/guide/guide.pdf\n",
    "svm_min_max = Pipeline([\n",
    "    ('scale', MinMaxScaler((-1, 1))),\n",
    "    ('train', SVC()),\n",
    "])\n",
    "results_svm_min_max = evaluate_model(svm_min_max, (train_set, train_labels), (validation_set, validation_labels), n_jobs=-1, verbose=10)\n",
    "results_svm_min_max"
   ]
  },
  {
   "cell_type": "code",
   "execution_count": 11,
   "metadata": {},
   "outputs": [],
   "source": [
    "from sklearn.model_selection import GridSearchCV\n",
    "from sklearn.preprocessing import MinMaxScaler\n",
    "\n",
    "def pow_range(base, start, stop, step):\n",
    "    return [base**i for i in range(start, stop, step)]\n",
    "\n",
    "C_range = pow_range(2, -5, 15+1, 2)\n",
    "gamma_range = pow_range(2, -15, 3+1, 2)\n",
    "\n",
    "svm_min_max_rbf = Pipeline([\n",
    "    ('scale', MinMaxScaler((-1, 1))),\n",
    "    ('train', SVC(kernel = 'rbf', random_state = 42)),\n",
    "])\n",
    "\n",
    "grid = [\n",
    "    {\n",
    "        'train__C': list(C_range),\n",
    "        'train__gamma': list(gamma_range),\n",
    "    },\n",
    "]\n",
    "\n",
    "svm_min_max_rbf_grid = GridSearchCV(svm_min_max_rbf, param_grid=grid, n_jobs=-1, cv=5, scoring='accuracy', verbose=10)"
   ]
  },
  {
   "cell_type": "code",
   "execution_count": null,
   "metadata": {},
   "outputs": [
    {
     "name": "stdout",
     "output_type": "stream",
     "text": [
      "Fitting 5 folds for each of 110 candidates, totalling 550 fits\n"
     ]
    }
   ],
   "source": [
    "svm_min_max_rbf_grid.fit(part_train_set, part_train_labels)"
   ]
  }
 ],
 "metadata": {
  "kernelspec": {
   "display_name": "Python 3",
   "language": "python",
   "name": "python3"
  },
  "language_info": {
   "codemirror_mode": {
    "name": "ipython",
    "version": 3
   },
   "file_extension": ".py",
   "mimetype": "text/x-python",
   "name": "python",
   "nbconvert_exporter": "python",
   "pygments_lexer": "ipython3",
   "version": "3.7.5"
  }
 },
 "nbformat": 4,
 "nbformat_minor": 2
}
